{
 "cells": [
  {
   "cell_type": "code",
   "execution_count": 1,
   "metadata": {
    "slideshow": {
     "slide_type": "notes"
    }
   },
   "outputs": [],
   "source": [
    "import numpy as np\n",
    "import matplotlib.pyplot as plt\n",
    "from tqdm import trange\n",
    "import random\n",
    "import math\n",
    "import os\n",
    "import time\n",
    "%matplotlib inline"
   ]
  },
  {
   "cell_type": "markdown",
   "metadata": {
    "slideshow": {
     "slide_type": "notes"
    }
   },
   "source": [
    "To generate slides run \n",
    "\n",
    "```bash\n",
    "  jupyter nbconvert genetic_pendulum.ipynb --to slides --post serve\n",
    "```"
   ]
  },
  {
   "cell_type": "markdown",
   "metadata": {
    "slideshow": {
     "slide_type": "slide"
    }
   },
   "source": [
    "# Genetic algorithms (GAs) with an example\n",
    "\n",
    "Mike Smith\n",
    "\n",
    "![running things](./images/running_things.gif) Geijtenbeek et al. 2013"
   ]
  },
  {
   "cell_type": "markdown",
   "metadata": {
    "slideshow": {
     "slide_type": "notes"
    }
   },
   "source": [
    "The giraffes above were created using a genetic algorithm (in addition to other techniques). In this tutorial we'll learn the basics of GAs by fitting a function.\n",
    "\n",
    "GAs will be used to fit a randomly generated sin function:"
   ]
  },
  {
   "cell_type": "markdown",
   "metadata": {
    "slideshow": {
     "slide_type": "slide"
    }
   },
   "source": [
    "## The function: \n",
    "\n",
    "$ f(x) = p_0 \\cdot \\sin(\\, p_1 \\cdot x + p_2) + p_3 $"
   ]
  },
  {
   "cell_type": "markdown",
   "metadata": {
    "slideshow": {
     "slide_type": "fragment"
    }
   },
   "source": [
    "We need to find $p_0, p_1, p_2, \\text{and} \\, p_3$."
   ]
  },
  {
   "cell_type": "code",
   "execution_count": 2,
   "metadata": {
    "slideshow": {
     "slide_type": "fragment"
    }
   },
   "outputs": [],
   "source": [
    "def fn(x, ps = [1.0, 1.0, 0.0, 0.0]):\n",
    "    return ps[0] * np.sin(ps[1] * x + ps[2]) + ps[3]"
   ]
  },
  {
   "cell_type": "markdown",
   "metadata": {
    "slideshow": {
     "slide_type": "notes"
    }
   },
   "source": [
    "This is boilerplate for making the log directory, and defining the graphical comparison between the estimated function and the ground truth:"
   ]
  },
  {
   "cell_type": "code",
   "execution_count": 3,
   "metadata": {
    "slideshow": {
     "slide_type": "notes"
    }
   },
   "outputs": [],
   "source": [
    "logdir = \"figs/{}\".format(int(time.time()))\n",
    "os.mkdir(logdir)\n",
    "\n",
    "def compare(ps, gt_xs, gt_ys, generation, tag, logdir=logdir, show=True, fn=fn):\n",
    "    \"\"\" Compare the results of two different variable lists \"\"\"\n",
    "    plt.figure(figsize=(12, 4))\n",
    "\n",
    "    p_fn = [fn(gt_x, ps) for gt_x in gt_xs]\n",
    "    \n",
    "    plt.plot(gt_xs, p_fn, color=\"orange\", label=ps)\n",
    "    plt.plot(gt_xs, gt_ys, \"+\", color=\"black\")\n",
    "    plt.legend()\n",
    "    plt.title(\"Generation {:03d}\".format(generation))\n",
    "    plt.xlabel(\"x\")\n",
    "    plt.ylabel(\"f(x)\")\n",
    "    plt.ylim(np.min(gt_ys) - 0.1, np.max(gt_ys) + 0.1)\n",
    "    plt.show() if show else plt.savefig(\"{}/{:03d}_{}.png\".format(logdir, generation, tag))\n",
    "    plt.close()"
   ]
  },
  {
   "cell_type": "markdown",
   "metadata": {
    "slideshow": {
     "slide_type": "subslide"
    }
   },
   "source": [
    "Let's define the ground truth ``gt`` and visualise it:"
   ]
  },
  {
   "cell_type": "code",
   "execution_count": 4,
   "metadata": {
    "slideshow": {
     "slide_type": "fragment"
    }
   },
   "outputs": [
    {
     "data": {
      "image/png": "[encoded data removed]",
      "text/plain": [
       "<Figure size 864x288 with 1 Axes>"
      ]
     },
     "metadata": {
      "needs_background": "light"
     },
     "output_type": "display_data"
    }
   ],
   "source": [
    "gt = [0.19536371, 0.31256747, 0.35230088, 0.55408133]\n",
    "\n",
    "gt_xs = np.arange(0, 50.0, 0.5)\n",
    "gt_ys = [fn(gt_x, gt) + 0.05 * np.random.randn() for gt_x in gt_xs]\n",
    "\n",
    "compare(gt, gt_xs, gt_ys, 0, \"gt\")"
   ]
  },
  {
   "cell_type": "markdown",
   "metadata": {
    "slideshow": {
     "slide_type": "notes"
    }
   },
   "source": [
    "Now that we have the function we want to fit, we need to know what a GA is exactly, so"
   ]
  },
  {
   "cell_type": "markdown",
   "metadata": {
    "slideshow": {
     "slide_type": "slide"
    }
   },
   "source": [
    "## What is a genetic algorithm?\n",
    "\n",
    "Essentially a mathematical model inspired by natural selection."
   ]
  },
  {
   "cell_type": "markdown",
   "metadata": {
    "slideshow": {
     "slide_type": "subslide"
    }
   },
   "source": [
    "## How do we emulate natural selection?\n",
    "\n",
    "![ga diagram](./images/ga.png)"
   ]
  },
  {
   "cell_type": "markdown",
   "metadata": {
    "slideshow": {
     "slide_type": "notes"
    }
   },
   "source": [
    "The above diagram shows a typical genetic algorithm training cycle."
   ]
  },
  {
   "cell_type": "markdown",
   "metadata": {
    "slideshow": {
     "slide_type": "subslide"
    }
   },
   "source": [
    "We need:\n",
    "\n",
    "  1. A definition of an individual.\n",
    "  2. A way to measure an individual's fitness.\n",
    "  3. A way to breed a couple to create children.\n",
    "  4. A way to randomly mutate an individual."
   ]
  },
  {
   "cell_type": "markdown",
   "metadata": {
    "slideshow": {
     "slide_type": "slide"
    }
   },
   "source": [
    "## What is an individual?\n",
    "\n",
    "\n",
    "\n",
    "![ind](./images/individual.png)"
   ]
  },
  {
   "cell_type": "markdown",
   "metadata": {
    "slideshow": {
     "slide_type": "notes"
    }
   },
   "source": [
    "An individual in this case is a numpy array populated with random numbers in the half open interval, and has shape ``[ps, alleles]``. We can take the mean across the allele axis to retrieve the individual's ps."
   ]
  },
  {
   "cell_type": "code",
   "execution_count": 5,
   "metadata": {
    "slideshow": {
     "slide_type": "fragment"
    }
   },
   "outputs": [],
   "source": [
    "def generate_first_pop(pop_size=100, ps=4, alleles=8):\n",
    "    \"\"\" Generate a randomly populated generation of individuals. \"\"\"\n",
    "    return np.random.random(size=[pop_size, ps, alleles])"
   ]
  },
  {
   "cell_type": "markdown",
   "metadata": {
    "slideshow": {
     "slide_type": "slide"
    }
   },
   "source": [
    "## How do we measure an individual's fitness?\n",
    "\n",
    "Need a comparison between the individual and the ground truth."
   ]
  },
  {
   "cell_type": "markdown",
   "metadata": {
    "slideshow": {
     "slide_type": "fragment"
    }
   },
   "source": [
    "In our continuous variable case we could use:\n",
    "    \n",
    "$$ MAE = \\frac{\\sum_{i=1}^n \\left| \\, \\text{ground truth}_i - \\text{individual}_i \\, \\right|}{n} $$"
   ]
  },
  {
   "cell_type": "markdown",
   "metadata": {
    "slideshow": {
     "slide_type": "notes"
    }
   },
   "source": [
    "We would take each point in the ground truth values (shown below), and find the distance between them and the values predicted via the individual's ps. We would then take the mean of this residual to find the MAE."
   ]
  },
  {
   "cell_type": "code",
   "execution_count": 6,
   "metadata": {
    "slideshow": {
     "slide_type": "subslide"
    }
   },
   "outputs": [
    {
     "data": {
      "image/png": "[encoded data removed]",
      "text/plain": [
       "<Figure size 864x360 with 2 Axes>"
      ]
     },
     "metadata": {
      "needs_background": "light"
     },
     "output_type": "display_data"
    }
   ],
   "source": [
    "gt_ind = [fn(gt_x, gt) for gt_x in gt_xs] # \"perfect\" solution\n",
    "\n",
    "fig, axs = plt.subplots(2, 1, figsize=(12, 5), sharex=True)\n",
    "axs[0].plot(gt_xs, gt_ys, \"+\", color=\"black\", label=\"Noisy GT\")\n",
    "axs[0].plot(gt_xs, gt_ind, \"x\", label=\"Perfect solution\")\n",
    "axs[1].plot(gt_xs, np.abs(np.subtract(gt_ys, gt_ind)), label=\"Absolute residual\")\n",
    "[ax.legend() for ax in axs.ravel()]\n",
    "plt.show()"
   ]
  },
  {
   "cell_type": "markdown",
   "metadata": {
    "slideshow": {
     "slide_type": "notes"
    }
   },
   "source": [
    "The fitness function coded in python:"
   ]
  },
  {
   "cell_type": "code",
   "execution_count": 7,
   "metadata": {
    "slideshow": {
     "slide_type": "subslide"
    }
   },
   "outputs": [],
   "source": [
    "def fitness(ps, gt_xs, gt_ys, func=fn):\n",
    "    \"\"\" Calculate mean absolute error for an individual's ps. \"\"\"\n",
    "    p_fn = np.array([fn(gt_x, np.mean(ps, axis=1)) for gt_x in gt_xs])\n",
    "\n",
    "    loss = np.mean(np.abs(np.subtract(p_fn, gt_ys)))\n",
    "    return loss"
   ]
  },
  {
   "cell_type": "markdown",
   "metadata": {
    "slideshow": {
     "slide_type": "notes"
    }
   },
   "source": [
    "And if the fitness function is working, we should be able to select the fittest individuals to mate, improving the mean fitness with each generation:"
   ]
  },
  {
   "cell_type": "markdown",
   "metadata": {
    "slideshow": {
     "slide_type": "fragment"
    }
   },
   "source": [
    "![fitness_meme](./images/small_fitness_meme.jpg)"
   ]
  },
  {
   "cell_type": "markdown",
   "metadata": {
    "slideshow": {
     "slide_type": "slide"
    }
   },
   "source": [
    "## How do we generate a new generation?\n",
    "\n",
    "Since each individual is a numpy array, we can just randomly select alleles from each parent:"
   ]
  },
  {
   "cell_type": "code",
   "execution_count": 8,
   "metadata": {
    "slideshow": {
     "slide_type": "fragment"
    }
   },
   "outputs": [],
   "source": [
    "def give_birth(ind1, ind2):\n",
    "    \"\"\" Give birth to a child by mixing alleles. \"\"\"\n",
    "    allele_mask = np.random.rand(*ind1.shape) > 0.5\n",
    "    return np.where(allele_mask, ind1, ind2)"
   ]
  },
  {
   "cell_type": "markdown",
   "metadata": {
    "slideshow": {
     "slide_type": "slide"
    }
   },
   "source": [
    "## How do we mutate an individual?\n",
    "\n",
    "In this case, since each individual is a numpy array, we could just randomly replace its alleles:"
   ]
  },
  {
   "cell_type": "code",
   "execution_count": 9,
   "metadata": {
    "slideshow": {
     "slide_type": "fragment"
    }
   },
   "outputs": [],
   "source": [
    "def mutate(pop, p=0.05):\n",
    "    \"\"\" Randomly mutate alleles in a population. \"\"\"\n",
    "    allele_mask = np.random.rand(*pop.shape) > p\n",
    "    new_alleles = np.random.random(size=pop.shape)\n",
    "    return np.where(allele_mask, pop, new_alleles)"
   ]
  },
  {
   "cell_type": "markdown",
   "metadata": {
    "slideshow": {
     "slide_type": "slide"
    }
   },
   "source": [
    "## Putting it all together:"
   ]
  },
  {
   "cell_type": "code",
   "execution_count": 10,
   "metadata": {
    "slideshow": {
     "slide_type": "notes"
    }
   },
   "outputs": [],
   "source": [
    "# These functions are used to sort the fittest inds, \n",
    "# randomly select n lucky inds, \n",
    "# and mate the next pop into existence.\n",
    "\n",
    "def sort_fittest(pop, gt_xs, gt_ys):\n",
    "    \"\"\" Sort the fittest individuals from a population \"\"\"\n",
    "    return pop[np.argsort([fitness(ind, gt_xs, gt_ys) for ind in pop])]\n",
    "\n",
    "def get_n_luckies(pop, n=20):\n",
    "    \"\"\" Get n randomly selected individuals from a population \"\"\"\n",
    "    return pop[np.random.choice(len(pop), size=n)]\n",
    "\n",
    "def generate_next_pop(inds, n_children=4):\n",
    "    \"\"\" Get next population by creating children. \"\"\"\n",
    "    next_pop = [give_birth(inds[i], inds[len(inds) - 1 - i]) for i in range(len(inds)//2) for j in range(n_children)]\n",
    "    return np.array(next_pop)\n",
    "\n",
    "def log_outputs():\n",
    "    compare(np.mean(fittest[0], axis=1), gt_xs, gt_ys, \n",
    "            generation=generation, show=False, tag=\"fittest\")\n",
    "    compare(np.mean(fittest[50], axis=1), gt_xs, gt_ys, \n",
    "            generation=generation, show=False, tag=\"median\")\n",
    "    compare(np.mean(fittest[-1], axis=1), gt_xs, gt_ys, \n",
    "            generation=generation, show=False, tag=\"least_fit\")"
   ]
  },
  {
   "cell_type": "markdown",
   "metadata": {
    "slideshow": {
     "slide_type": "notes"
    }
   },
   "source": [
    "Here we have the genetic loop. Here is a pseudocode description of what's going on:\n",
    "\n",
    "```\n",
    "1. Generate a population.\n",
    "\n",
    "Loop for 100 generations:\n",
    "  2. Sort the population in order of fitness. \n",
    "  3. Select 20 \"lucky\" individuals from the bottom 70% of the populace\n",
    "       to reduce the likelihood of getting stuck in a local minima. \n",
    "  4. Create the next generation by breeding the fittest 30% of the \n",
    "       population and the 20 lucky individuals. \n",
    "  5. Mutate the population.  \n",
    "```"
   ]
  },
  {
   "cell_type": "code",
   "execution_count": 11,
   "metadata": {
    "slideshow": {
     "slide_type": "fragment"
    }
   },
   "outputs": [
    {
     "name": "stderr",
     "output_type": "stream",
     "text": [
      "ff: 0.0795, mean: [0.21940179 0.31928053 0.41447751 0.55089329]: 100%|██████████| 100/100 [01:09<00:00,  1.46it/s]\n"
     ]
    }
   ],
   "source": [
    "pop = generate_first_pop()\n",
    "\n",
    "fitnesses_list = []\n",
    "pbar = trange(1, 101)\n",
    "for generation in pbar:\n",
    "    # Get population fitness\n",
    "    fitnesses = [fitness(ind, gt_xs, gt_ys) for ind in pop]\n",
    "    fitnesses_list.append(fitnesses)\n",
    "    \n",
    "    # Sort the individuals in order of fit to not fit\n",
    "    fittest = sort_fittest(pop, gt_xs, gt_ys)\n",
    "    \n",
    "    # Some outputs to log\n",
    "    log_outputs()\n",
    "    pbar.set_description(\"ff: {:.4f}, mean: {}\".format(np.mean(fitnesses_list[-1]), np.mean(pop, axis=(0, 2))))\n",
    "    \n",
    "    # Get 20 \"lucky\" individuals selected from the bottom 70% of the populace\n",
    "    luckies = get_n_luckies(fittest[:-70], n=20)\n",
    "    \n",
    "    # Breed the parents to make the next generation and mutate\n",
    "    breeders = np.random.permutation(np.concatenate((fittest[:30], luckies)))\n",
    "    pop = generate_next_pop(breeders)\n",
    "    pop = mutate(pop)"
   ]
  },
  {
   "cell_type": "markdown",
   "metadata": {
    "slideshow": {
     "slide_type": "notes"
    }
   },
   "source": [
    "Generate some nice log outputs:"
   ]
  },
  {
   "cell_type": "code",
   "execution_count": 12,
   "metadata": {
    "slideshow": {
     "slide_type": "notes"
    }
   },
   "outputs": [],
   "source": [
    "%%bash -s \"$logdir\"\n",
    "# This generates some gifs of the learning process\n",
    "convert -delay 20 $1/???_fittest.png $1/fittest.gif\n",
    "convert -delay 20 $1/???_median.png $1/median.gif\n",
    "convert -delay 20 $1/???_least_fit.png $1/least_fit.gif"
   ]
  },
  {
   "cell_type": "code",
   "execution_count": 13,
   "metadata": {
    "slideshow": {
     "slide_type": "notes"
    }
   },
   "outputs": [],
   "source": [
    "%%capture\n",
    "# This generates the loss figure\n",
    "plt.figure(figsize=(12, 4))\n",
    "plt.plot(np.max(fitnesses_list, axis=1), label=\"Least fit\")\n",
    "plt.plot(np.median(fitnesses_list, axis=1), label=\"Median fitness\")\n",
    "plt.plot(np.min(fitnesses_list, axis=1), label=\"Most fit\")\n",
    "plt.title(\"Fitness across generations\")\n",
    "plt.xlabel(\"Generation\")\n",
    "plt.ylabel(\"Mean Absolute Error\")\n",
    "plt.legend()\n",
    "plt.savefig(\"{}/losses.png\".format(logdir))"
   ]
  },
  {
   "cell_type": "markdown",
   "metadata": {
    "slideshow": {
     "slide_type": "slide"
    }
   },
   "source": [
    "## Results"
   ]
  },
  {
   "cell_type": "markdown",
   "metadata": {
    "slideshow": {
     "slide_type": "fragment"
    }
   },
   "source": [
    "![losses](./images/losses.png)"
   ]
  },
  {
   "cell_type": "markdown",
   "metadata": {
    "slideshow": {
     "slide_type": "notes"
    }
   },
   "source": [
    "First is least fit, then median fitness, then most fit."
   ]
  },
  {
   "cell_type": "markdown",
   "metadata": {
    "slideshow": {
     "slide_type": "subslide"
    }
   },
   "source": [
    "![least_fit](./images/least_fit1.gif) \n",
    "![median](./images/median1.gif) "
   ]
  },
  {
   "cell_type": "markdown",
   "metadata": {
    "slideshow": {
     "slide_type": "subslide"
    }
   },
   "source": [
    " ![fittest](./images/fittest1.gif)"
   ]
  },
  {
   "cell_type": "markdown",
   "metadata": {
    "slideshow": {
     "slide_type": "slide"
    }
   },
   "source": [
    "## Some interesting applications of GAs\n",
    "\n",
    "* [Antenna design](https://doi.org/10.2514/6.2006-7242)\n",
    "* [Lens design](https://doi.org/10.1007/s12596-018-0497-3)\n",
    "* [Travelling saleman problem](https://towardsdatascience.com/evolution-of-a-salesman-a-complete-genetic-algorithm-tutorial-for-python-6fe5d2b3ca35)\n",
    "* [Teaching a robot to walk](https://www.cs.ubc.ca/~van/papers/2013-TOG-MuscleBasedBipeds/index.html)\n",
    "* [Bankruptcy prediction](https://doi.org/10.1016/S0957-4174%2802%2900051-9)\n",
    "* [A viable alternative to gradient descent for reinforcement learning](https://arxiv.org/abs/1712.06567)\n",
    "* [When GAs go wrong...](https://arxiv.org/abs/1803.03453)"
   ]
  },
  {
   "cell_type": "code",
   "execution_count": null,
   "metadata": {
    "slideshow": {
     "slide_type": "skip"
    }
   },
   "outputs": [],
   "source": []
  }
 ],
 "metadata": {
  "kernelspec": {
   "display_name": "Python 3",
   "language": "python",
   "name": "python3"
  },
  "language_info": {
   "codemirror_mode": {
    "name": "ipython",
    "version": 3
   },
   "file_extension": ".py",
   "mimetype": "text/x-python",
   "name": "python",
   "nbconvert_exporter": "python",
   "pygments_lexer": "ipython3",
   "version": "3.7.3"
  }
 },
 "nbformat": 4,
 "nbformat_minor": 2
}
